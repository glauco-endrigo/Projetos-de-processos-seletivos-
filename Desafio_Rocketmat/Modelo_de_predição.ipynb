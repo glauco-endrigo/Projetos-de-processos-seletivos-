{
 "cells": [
  {
   "cell_type": "markdown",
   "metadata": {},
   "source": [
    "#  Modelo de predição <br />\n",
    "\n",
    "## Sumário:\n",
    "\n",
    "   ## 1. Introdução\n",
    "      1.1  Objetivo \n",
    "      1.2  Bibliotecas\n",
    "      \n",
    "   ## 2. Dados \n",
    "      2.1 Ler os dados\n",
    "      2.2 Ler os dados pré-processados:\n",
    "      2.3 Separando os dados :\n",
    "       \n",
    "   ## 3. Pré-processadores\n",
    "      3.1 Criando o pré-processador\n",
    "      3.2 Funções de limpeza de dados testadas:\n",
    "      3.3 Funções de padronização e normalização testadas:\n",
    "      3.4 Funções para encoding:\n",
    "       \n",
    "   ## 4.  Fluxo de processos com Pipeline:\n",
    "      4.1 Modelos de classificação testados  \n",
    "          4.11  K Nearest Neighbors\n",
    "          4.12  Support Vector Machine\n",
    "          4.13  Árvore de decisão\n",
    "          4.14  Regressão logística\n",
    "      4.2 Pipeline\n",
    "      4.3 Dicionário de pipelines\n",
    "       \n",
    "       \n",
    "   ## 5. Validação cruzada: Avaliando o desempenho do estimador\n",
    "   \n",
    "   ## 6. Ajuste fino de parâmetros:\n",
    "       \n",
    "      6.1 Parâmetros dos modelos de Machine Learning\n",
    "      6.2 Aplicando a técnica Grid search\n",
    "       \n",
    "   ## 7. Seleção de Features\n",
    "      7.1 Definindo o melhor k para a função de seleção de Features: SelectKBest()\n",
    "      7.2 Gráficos de K vs mean absolute error (MAE)\n",
    "      7.3 Adicionando a função SelectKBest() ao Pipeline\n",
    "       \n",
    "   ## 8.  Persistindo os modelos para o disco\n",
    "   \n",
    "   ## 9.  Verificando quais funcionários valiosos sairão da empresa:\n",
    "       \n",
    "      9.1 Filtro: Melhores funcionários\n",
    "      9.2 Modelo escolhido para a solução\n",
    "      9.3 Importância das Features\n",
    "      9.4 Solução\n"
   ]
  },
  {
   "cell_type": "markdown",
   "metadata": {},
   "source": [
    "## 1. Introdução\n",
    "\n",
    "#### 1.1 Objetivo:\n",
    "* Verificar quais funcionários valiosos sairão da empresa.\n",
    "\n",
    "#### 1.2  Bibliotecas:"
   ]
  },
  {
   "cell_type": "code",
   "execution_count": 2,
   "metadata": {},
   "outputs": [
    {
     "name": "stdout",
     "output_type": "stream",
     "text": [
      "importing Jupyter notebook from __Pre_Processamento__.ipynb\n"
     ]
    }
   ],
   "source": [
    "import import_ipynb            # Permite \"importar\"  outros arquivos  ipynb \n",
    "import os                      # Para criar Diretórios\n",
    "\n",
    "import pandas as pd\n",
    "import numpy as np\n",
    "\n",
    "from sklearn.model_selection   import train_test_split\n",
    "from sklearn                   import neighbors   \n",
    "from sklearn.pipeline          import Pipeline\n",
    "from sklearn.preprocessing     import OneHotEncoder, StandardScaler, MaxAbsScaler\n",
    "from sklearn.neighbors         import KNeighborsClassifier\n",
    "from sklearn.linear_model      import LogisticRegression\n",
    "from sklearn.tree              import DecisionTreeClassifier\n",
    "from sklearn.impute            import SimpleImputer\n",
    "from sklearn.compose           import ColumnTransformer\n",
    "from sklearn.model_selection   import GridSearchCV\n",
    "\n",
    "from joblib import dump, load  # Persistir os modelos para o disco\n",
    "\n",
    "# Módulos que eu criei \n",
    "import __Pre_Processamento__\n",
    "from   __Pre_Processamento__   import Pre_Processamento_inicial, Separar\n",
    "\n",
    "# Seleção de Features:\n",
    "from sklearn.feature_selection import SelectKBest, SelectPercentile, f_classif\n",
    "from sklearn.compose           import make_column_transformer\n",
    "from sklearn.metrics           import mean_absolute_error\n",
    "\n",
    "#Gráficos\n",
    "import matplotlib.pyplot"
   ]
  },
  {
   "cell_type": "markdown",
   "metadata": {},
   "source": [
    "## 2. Dados\n",
    "\n",
    "#### 2.1 Ler os dados "
   ]
  },
  {
   "cell_type": "code",
   "execution_count": 3,
   "metadata": {},
   "outputs": [],
   "source": [
    "dados = pd.read_csv(\"HR_Engagement_Sat_Sales_UpdatedV4.0.csv\",index_col=0)"
   ]
  },
  {
   "cell_type": "markdown",
   "metadata": {},
   "source": [
    "#### 2.2 Ler os dados pré-processados: "
   ]
  },
  {
   "cell_type": "code",
   "execution_count": 4,
   "metadata": {},
   "outputs": [],
   "source": [
    "dados_ler  = Pre_Processamento_inicial(dados, Premissas_1 = True)\n",
    "dados_processados_inicialmente = dados_ler.dados_processados_inicialmente"
   ]
  },
  {
   "cell_type": "markdown",
   "metadata": {},
   "source": [
    "#### 2.3 Separando os dados :\n",
    "\n",
    "O médodo \"separando\" da classe \"Separar()\" permite separar  os dados de acordo com a estrutura que o modelo ML exige, ou seja,  X = features e y target.                                                 \n",
    "Os dados categóricos e contínuos podem ser separados usando as propriedades do método \"separando\"."
   ]
  },
  {
   "cell_type": "code",
   "execution_count": 2,
   "metadata": {},
   "outputs": [],
   "source": [
    "Sep =  Separar()                                                # Instanciando  a classe \n",
    "Sep.separando(\"left_Company\", dados_processados_inicialmente)   # separando(\"Target\", dados)\n",
    "X = Sep.X # Features \n",
    "y = Sep.y # Target\n",
    "\n",
    "# Propriedades do método separando - Separando dados categóricos e contínuos.\n",
    "categorical_features =  Sep.Colunas_dados_categoricos           # dados categóricos\n",
    "numeric_features     =  Sep.Colunas_dados_numericos             # dados contínuos"
   ]
  },
  {
   "cell_type": "markdown",
   "metadata": {},
   "source": [
    "## 3.  Pré-processadores\n",
    "\n",
    "#### 3.1 Criando o  pré-processador\n",
    "\n",
    "* O Scikit-learn a partir da versão 0.20 fornece  a função  sklearn.compose.ColumnTransformer para fazer o transformador de coluna com tipos mistos. Pode-se escalar  as features  numéricas e codificar as categóricos no mesmo processo.\n",
    "* Cuidado: este método é EXPERIMENTAL, alguns comportamentos podem mudar entre os lançamentos sem depreciação.\n",
    "\n",
    "#### 3.2 Funções de limpeza de dados testadas: \n",
    "   3.21  SimpleImputer(): \n",
    "   Tratar  dados faltantes utilizando a classe SimpleImputer da biblioteca sklearn.impute.Lembrando que já foi realizado um tratamento inicial de dados faltantes, de acordo  com as premissas iniciais.\n",
    "\n",
    "#### 3.3 Funções de padronização e normalização testadas: \n",
    "\n",
    "3.31 StandardScaler() \n",
    "   * Eficiente para features com distribuição   normal.\n",
    "   * Para cada feature, o StandardScaler()  dimensiona os valores de forma que a média seja 0 e o desvio padrão seja 1 (ou a variância).\n",
    "   * O StandardScaler assume que a distribuição da variável é normal. Assim, caso as variáveis não sejam normalmente distribuídas, pode-se : \n",
    "        * Escolher um dimensionador diferente\n",
    "        * Converter as variáveis para uma distribuição normal e, em seguida, aplicar  o StandardScaler\n",
    "\n",
    "3.32 MaxAbsScaler() \n",
    "   * Pega o valor máximo absoluto de cada coluna e divide cada valor na coluna pelo valor máximo.\n",
    "\n",
    "   * Primeiro obtém-se o valor absoluto de cada valor na coluna e, em seguida, obtém o valor máximo. \n",
    "      Esta operação dimensiona os dados entre o intervalo [-1, 1].\n",
    "\n",
    "3.33 MinMaxScaler() \n",
    "   * O dimensionador MinMax é um dos dimensionadores mais simples de entender. Ele apenas dimensiona todos os dados entre 0       e 1.\n",
    " \n",
    "####  3.4 Funções para encoding:\n",
    "\n",
    "3.41 One-Hot Encoding:\n",
    "\n",
    "   * A variável categórica não é ordinal.\n",
    "   * O número de recursos categóricos é menor, então a codificação one-hot pode ser aplicada com eficácia\n",
    "\n",
    "\n",
    "3.42 Aplicamos a codificação de Label Encoding quando:\n",
    "\n",
    "   * A variável categórica é ordinal ('ruim', 'médio', 'bom')\n",
    "   * O número de categorias é bastante grande, pois a codificação one-hot pode levar a um alto consumo de memória "
   ]
  },
  {
   "cell_type": "code",
   "execution_count": 6,
   "metadata": {},
   "outputs": [],
   "source": [
    "numeric_transformer = Pipeline(steps=[\n",
    "    ('imputer', SimpleImputer(strategy='median')),\n",
    "    ('scaler', StandardScaler())])\n",
    "\n",
    "categorical_transformer = Pipeline(steps=[\n",
    "    ('imputer', SimpleImputer(strategy='constant', fill_value='missing')),\n",
    "    ('onehot', OneHotEncoder(handle_unknown='ignore'))])\n",
    "\n",
    "preprocessor_1 = ColumnTransformer(\n",
    " transformers=[\n",
    "        ('num', numeric_transformer, numeric_features),\n",
    "        ('cat', categorical_transformer, categorical_features)])\n"
   ]
  },
  {
   "cell_type": "code",
   "execution_count": 7,
   "metadata": {},
   "outputs": [],
   "source": [
    "preprocessor_2 = Pipeline(steps=\n",
    "      [\n",
    "     (\"ohe\", OneHotEncoder(handle_unknown=\"ignore\")\n",
    "     )])  "
   ]
  },
  {
   "cell_type": "markdown",
   "metadata": {},
   "source": [
    "## 4. Fluxo de processos com Pipeline:\n",
    "O objetivo das  pipelines é reunir várias etapas que podem ser validadas em conjunto ao se definir parâmetros diferentes.\n",
    "\n",
    "Pelas característica do problema, vemos que é um problema para Aprendizagem de Máquina Supervisionada.\n",
    "Devido a natureza dos dados e o fato da variável de predição ser discreta\n",
    "\n",
    "#### 4.1 Modelos de classificação testados :  \n",
    "\n",
    "#### 4.1.1  K Nearest Neighbors\n",
    "    4.1.1.1  É automaticamente não linear, pode detectar dados distribuídos lineares ou não lineares, tende a ter um desempenho muito bom com muitos pontos de dados.\n",
    "\n",
    "    4.1.1.2  Precisa ser cuidadosamente ajustado, a escolha de K e a métrica (distância) a ser usada são críticas.  para muitos pontos de dados, o KNN tem problemas de desempenho. \n",
    "\n",
    "    4.1.1.3  É muito sensível a recursos ruins (atributos), portanto a seleção de recursos também é importante. O KNN também é sensível a valores discrepantes e a remoção deles antes de usá-lo tende a melhorar os resultados.\n",
    "    \n",
    "    \n",
    "#### 4.1.2  Support Vector Machine\n",
    "\n",
    "    4.1.2.1  O SVM pode ser usado de maneiras lineares ou não lineares com o uso de um Kernel, quando se tem um conjunto limitado de pontos em muitas dimensões, o SVM tende a ser muito bom porque deve ser capaz de encontrar a separação linear que possivelmente  existe. \n",
    "    \n",
    "    4.1.2.2  É bom para outliers, pois usará apenas os pontos mais relevantes para encontrar uma separação linear (vetores de suporte)\n",
    "\n",
    "    4.1.2.3  Precisa ser ajustado, o custo \"C\" e o uso de um kernel e  hiperparâmetros são  críticos para o algoritmo. \n",
    "\n",
    "#### 4.1.3  Árvore de decisão\n",
    "\n",
    "Algumas vantagens: \n",
    "\n",
    "    4.1.3.1  Útil em exploração de dados: A árvore de decisão é uma das formas mais rápidas de identificar as variáveis mais   significativas e a relação entre duas ou mais variáveis. Com a ajuda de árvores de decisão, podemos criar novas variáveis/características que tenham melhores condições de predizer a variável alvo. \n",
    "    \n",
    "    4.1.3.2  Menor necessidade de limpar dados: Requer menos limpeza de dados em comparação com outras técnicas de modelagem. Até um certo nível, não é influenciado por pontos fora da curva “outliers” nem por valores faltantes (“missing values”).\n",
    "    \n",
    "    4.1.3.3  Não é restrito por tipos de dados: Pode manipular variáveis numéricas e categóricas.\n",
    "    \n",
    "    4.1.3.4  Método não paramétrico: A árvore de decisão é considerada um método não-paramétrico. Isto significa que as árvores de decisão não pressupõe a distribuição do espaço nem a estrutura do classificador.\n",
    "\n",
    "Algumas desvantagens:\n",
    "\n",
    "    4.1.3.5  Sobreajuste (“Over fitting”): Sobreajuste é uma das maiores dificuldades para os modelos de árvores de decisão. \n",
    "    \n",
    "    4.1.3.6  Não adequado para variáveis contínuas: ao trabalhar com variáveis numéricas contínuas, a árvore de decisão perde informações quando categoriza variáveis em diferentes categorias.\n",
    "    \n",
    "    4.1.3.7  Decision-trees can handle categorical values very well but most of the algorithms expect numerical values to achieve state-of-the-art results.\n",
    "    \n",
    "    4.1.3.8 A codificação Label Encoding  converte dados categóricos para inteiros e o DecisionTreeClassifier() tratará como dados numéricos. Se seus dados categóricos não forem ordinais, isso não é bom - pode ocorrer divisões que não fazem sentido.\n",
    "  \n",
    "    4.1.3.9 A codificação one-hot pode degradar seriamente o desempenho do modelo de árvore\n",
    " \n",
    "#### 4.1.4  Regressão logística\n",
    "\n",
    "    4.1.4.1  A regressão logística é o método usado para problemas de classificação binária (problemas com dois valores de classe), utilizando conceitos de estatística e probabilidade\n",
    "    \n",
    "    4.1.4.2  A documentação de sklearn.linear_model.LogisticRegression mostra que o primeiro parâmetro é:\n",
    "    Penalidade: str, 'l1' ou 'l2', padrão: 'l2' - Usado para especificar a norma usada na penalização. Os solvers ‘newton-cg’, ‘sag’ e ‘lbfgs’ suportam apenas 12 penalidades.\n",
    "    A regularização torna o modelo dependente da escala das features. Recomendada-se  normalizar as features ao fazer regressão logística com regularização. Os autores do livro Elements of  Statistical Learning recomendam o uso do StandardScaler().\n",
    "\n",
    "Algumas vantagens: \n",
    "    \n",
    "    4.1.4.3  A regressão logística é um dos algoritmos de aprendizado de máquina mais simples e é fácil de implementar,fornece grande eficiência.Por esses motivos, treinar um modelo com esse algoritmo não requer alto poder de computação.\n",
    "\n",
    "    4.1.4.4  A regressão logística produz resultados de em termos de probabilidades. Esta é uma vantagem sobre os modelos que fornecem apenas a classificação final como resultado. \n",
    "\n",
    "Algumas desvantagens:\n",
    "\n",
    "    4.1.4.5  A regressão logística requer moderada ou nenhuma multicolinearidade entre as variáveis independentes. Isso significa que se duas variáveis independentes têm uma correlação alta, apenas uma delas deve ser usada. A repetição de informações pode levar ao treinamento incorreto de parâmetros (pesos) durante a minimização da função de custo. A multicolinearidade pode ser removida usando técnicas de redução de dimensionalidade.\n",
    "\n",
    "    4.1.4.6  Apenas features importantes e relevantes devem ser usadas para construir o modelo, caso contrário, as previsões probabilísticas feitas pelo modelo podem estar incorretas e o valor preditivo do modelo pode degradar.\n",
    "\n",
    "\n",
    "Entre o SVM e KNN: \n",
    "\n",
    "-  Muitos pontos em um espaço de baixa dimensão, o KNN provavelmente é uma boa escolha.\n",
    "\n",
    "-  Alguns pontos em um espaço dimensional alto, provavelmente um SVM linear é melhor.\n",
    "\n",
    "Como na base de dados os espaços dimensionais tem bastante pontos,  o Support Vector Machine demoraria muito para rodar na máquina que estou usando. Os demais foram todos testados.\n",
    "\n",
    "#### 4.2 Pipelines:"
   ]
  },
  {
   "cell_type": "code",
   "execution_count": 8,
   "metadata": {},
   "outputs": [],
   "source": [
    "knn_pip_1 = Pipeline([\n",
    "              ('preprocessor_1', preprocessor_1)       \n",
    "             ,(\"knn\" , KNeighborsClassifier(n_neighbors=8))                        # Foi realizado ajuste fino de parâmetros:\n",
    "             \n",
    "             ])\n",
    "\n",
    "logreg_pip_1 = Pipeline([\n",
    "              ('preprocessor_2',preprocessor_2)                                    # [4.1.4.5, 4.1.4.2]\n",
    "             ,(\"logreg\" , LogisticRegression(C=0.1, max_iter = 2000))              # Foi realizado ajuste fino de parâmetros:\n",
    "             ])\n",
    "\n",
    "tree_pip_1 = Pipeline([\n",
    "              ('preprocessor_1',preprocessor_1)\n",
    "             ,(\"tree\" , DecisionTreeClassifier(criterion='entropy', max_depth= 12)) # Foi realizado ajuste fino de parâmetros:\n",
    "             ])\n",
    "Pipelines = [knn_pip_1, logreg_pip_1 , tree_pip_1]"
   ]
  },
  {
   "cell_type": "markdown",
   "metadata": {},
   "source": [
    "#### 4.3 Dicionário de pipelines:"
   ]
  },
  {
   "cell_type": "code",
   "execution_count": null,
   "metadata": {},
   "outputs": [],
   "source": [
    "classification_models = {\n",
    "                        ' knn_pip_1'   : knn_pip_1\n",
    "                        ,'tree_pip_1'  : tree_pip_1\n",
    "                        ,'logreg_pip_1': logreg_pip_1\n",
    "                        }"
   ]
  },
  {
   "cell_type": "markdown",
   "metadata": {},
   "source": [
    "## 5. Validação cruzada: Avaliando o desempenho do estimador\n",
    "* Criando um conjunto de treinamento e  mantendo 20% dos dados para testar (avaliar) nosso classificador:"
   ]
  },
  {
   "cell_type": "code",
   "execution_count": 8,
   "metadata": {},
   "outputs": [],
   "source": [
    "X_train, X_test, y_train, y_test = train_test_split(X,y, test_size= 0.2) "
   ]
  },
  {
   "cell_type": "markdown",
   "metadata": {},
   "source": [
    "## 6. Ajuste fino de parâmetros: "
   ]
  },
  {
   "cell_type": "markdown",
   "metadata": {},
   "source": [
    "Ao avaliar diferentes configurações (\"hiperparâmetros\") para estimadores, não se deve ajustar os parãmetros manualmente, isso pode gerar overfitting.Os parâmetros podem acabar sendo  ajustados até que o estimador tenha um desempenho ideal. \n",
    "\n",
    "Para resolver este problema, separa-se um  \"conjunto de validação\": o treinamento é feito no  conjunto de treinamento, após isso  a avaliação é feita no conjunto de validação, e quando o experimento for  bem sucedido , a avaliação final será  feita no conjunto de teste.\n",
    "\n",
    "No entanto, ao particionar os dados disponíveis em três conjuntos, reduzimos drasticamente o número de amostras que podem ser usadas para o modelo.\n",
    "\n",
    "A solução é usar a  técnica \"grid search\""
   ]
  },
  {
   "cell_type": "markdown",
   "metadata": {},
   "source": [
    "#### 6.1 Parâmetros dos modelos de Machine Learning:"
   ]
  },
  {
   "cell_type": "code",
   "execution_count": 9,
   "metadata": {},
   "outputs": [],
   "source": [
    "n_components = list(range(1,X.shape[1]+1,1))\n",
    "criterion = ['gini', 'entropy']\n",
    "\n",
    "# Quanto maior for max_depth, maior será o número de divisões na árvore de decisão, e portanto, mais informação o modelo captura dos dados\n",
    "# max_depth não pode ser muito alto pois pode gerar superajuste  modelo \n",
    "max_depth = [10,12,14,16]\n"
   ]
  },
  {
   "cell_type": "code",
   "execution_count": 30,
   "metadata": {},
   "outputs": [],
   "source": [
    "#Convenção  = '<named_step>__<parameter>':value \n",
    "param_grid_knn   = {'knn__n_neighbors': np.arange(4, 20,1)}\n",
    "param_grid_LR    = {\"logreg__C\":np.logspace(-1,1,7)}# l1 lasso l2 ridge , \"logreg__penalty\":[\"l1\",\"l2\"]\n",
    "param_grid_tree  = {\"tree__criterion\" :criterion, \"tree__max_depth\":max_depth }\n",
    "\n",
    "\n",
    "param_grid = [param_grid_knn, param_grid_LR, param_grid_tree]"
   ]
  },
  {
   "cell_type": "markdown",
   "metadata": {},
   "source": [
    "#### 6.2 Aplicando a técnica Grid search"
   ]
  },
  {
   "cell_type": "code",
   "execution_count": 31,
   "metadata": {},
   "outputs": [
    {
     "name": "stdout",
     "output_type": "stream",
     "text": [
      "best_score  pip_1 = 0.9581333111037011\n",
      "best_params pip_1 = {'knn__n_neighbors': 8}\n",
      "-----------------------------------------------------------------------------------------------------------------------------\n",
      "best_score  pip_2 = 0.9284660886962322\n",
      "best_params pip_2 = {'logreg__C': 0.1}\n",
      "-----------------------------------------------------------------------------------------------------------------------------\n",
      "best_score  pip_3 = 0.8862666666666665\n",
      "best_params pip_3 = {'tree__criterion': 'gini', 'tree__max_depth': 10}\n",
      "-----------------------------------------------------------------------------------------------------------------------------\n"
     ]
    }
   ],
   "source": [
    "for i, pip in enumerate(Pipelines):\n",
    "    \n",
    "    grid = GridSearchCV(pip, param_grid[i] , cv=5, scoring = \"accuracy\")\n",
    "    grid.fit(X, y)\n",
    "    \n",
    "    print('best_score  pip_{} = {}'. format(i+1, grid.best_score_))\n",
    "    print('best_params pip_{} = {}'. format(i+1, grid.best_params_))\n",
    "    print(125*\"-\")"
   ]
  },
  {
   "cell_type": "markdown",
   "metadata": {},
   "source": [
    "## 7. Seleção de Features"
   ]
  },
  {
   "cell_type": "markdown",
   "metadata": {},
   "source": [
    "#### 7.1 Definindo o melhor k para a função de seleção de Features: SelectKBest()"
   ]
  },
  {
   "cell_type": "code",
   "execution_count": 9,
   "metadata": {},
   "outputs": [],
   "source": [
    "#odelo_selec = logreg_pip_1                # Modelo usado para Seleção de Features \n",
    "modelo_selec  = tree_pip_1                 # Falta automatizar essa parte do código  "
   ]
  },
  {
   "cell_type": "code",
   "execution_count": 10,
   "metadata": {},
   "outputs": [],
   "source": [
    "pre_processador = modelo_selec.steps[0][1] # Chamando o pré-processador da PipeLine\n",
    "X_2 = pre_processador.fit_transform(X)     # Fit_transform: O fit salva o modelo de pré-processador \n",
    "                                           # O transform vai aplicar o pré-processador e criar um array X_2  "
   ]
  },
  {
   "cell_type": "code",
   "execution_count": 12,
   "metadata": {},
   "outputs": [
    {
     "data": {
      "text/plain": [
       "(14999, 48)"
      ]
     },
     "execution_count": 12,
     "metadata": {},
     "output_type": "execute_result"
    }
   ],
   "source": [
    "X_2.shape                                  # Verificando  as dimensões de x para definir o range de k "
   ]
  },
  {
   "cell_type": "code",
   "execution_count": 20,
   "metadata": {
    "scrolled": true
   },
   "outputs": [],
   "source": [
    "#### Seleção de Features\n",
    "\n",
    "k_vs_score = []                            # lista para ser usada na\n",
    "suporte    = []                            # lista para ser usada na\n",
    "score_list = []                            # lista para ser usada na\n",
    "\n",
    "#for k in range(2500, 3000,50):\n",
    "for k in range(10, 49,1):    \n",
    "    score_list   = {}                      #Dicionário {k:mean_absolute_error}\n",
    "    score_media  = []\n",
    "    \n",
    "    # Estrutura de loop\n",
    "    # Esse loop tem a função de diminuir um pouco a variação nos resultados de mean_absolute_error.\n",
    "    # Funciona pois a função split está dentro do loop.\n",
    "    for i in range(1,10):\n",
    "        \n",
    "        #Criando um conjunto de treinamento e mantendo 20% dos dados para testar (avaliar) o melhor k:\n",
    "        #Esse segundo split serve unicamente para o propósito  do cálculo de k \n",
    "        X_train_2, X_test_2, y_train_2, y_test_2 = train_test_split(X_2,y, test_size= 0.2) \n",
    "        \n",
    "        # Esse método seleciona as k features mais correlacionadas com o alvo \n",
    "        selector = SelectKBest(score_func = f_classif, k = k ) \n",
    "\n",
    "        # fit_transform: O fit faz o cálculo das correlações e armazena no objeto selector \n",
    "        # e o transform vai criar um array só com as melhores k colunas \n",
    "        X_train_new = selector.fit_transform(X_train_2, y_train_2)\n",
    "        X_test_new  = selector.transform(X_test_2)\n",
    "\n",
    "\n",
    "        modelo_selec.steps[1][1].fit(X_train_new,  y_train_2)\n",
    "        Predict_Selec = modelo_selec.steps[1][1].predict(X_test_new)\n",
    "        \n",
    "        \n",
    "        #MAE (mean absolut error): calcula o \"erro absoluto médio\" dos erros entre valores observados (reais) e predições (hipóteses).\n",
    "        score_ = mean_absolute_error(y_test_2, Predict_Selec)\n",
    "        score_list[k] = (score_)               #Dicionário {k:score_} \n",
    "        \n",
    "    score_media.append(score_list[k])          # Salvando os valores do índice k\n",
    "   \n",
    "    score_m = sum(score_media)/len(score_media)# Cáculo da média \n",
    "    k_vs_score.append(score_m)                 # Salvando os mean_absolute_error médios\n"
   ]
  },
  {
   "cell_type": "markdown",
   "metadata": {},
   "source": [
    "#### 7.2  Gráficos de K vs mean absolute error (MAE)"
   ]
  },
  {
   "cell_type": "code",
   "execution_count": 21,
   "metadata": {},
   "outputs": [
    {
     "data": {
      "text/plain": [
       "[<matplotlib.lines.Line2D at 0x225a2ec53d0>]"
      ]
     },
     "execution_count": 21,
     "metadata": {},
     "output_type": "execute_result"
    },
    {
     "data": {
      "image/png": "[encoded data removed]",
      "text/plain": [
       "<Figure size 432x288 with 1 Axes>"
      ]
     },
     "metadata": {
      "needs_background": "light"
     },
     "output_type": "display_data"
    }
   ],
   "source": [
    "matplotlib.pyplot.plot(range(10, 49,1), k_vs_score)"
   ]
  },
  {
   "cell_type": "markdown",
   "metadata": {},
   "source": [
    " * Para a  pipeline logreg_pip_1, o k escolhido por inspeção gráfica será 2800 \n",
    " * Para as pipelines  knn_pip_1 e tree_pip_1, o k escolhido por inspeção gráfica será 48"
   ]
  },
  {
   "cell_type": "markdown",
   "metadata": {},
   "source": [
    "#### 7.3 Adicionando a função  SelectKBest() ao Pipeline:"
   ]
  },
  {
   "cell_type": "code",
   "execution_count": 10,
   "metadata": {},
   "outputs": [],
   "source": [
    "for i, model in enumerate(Pipelines):\n",
    "    \n",
    "    # Estrutura condicional:\n",
    "    # Pré-Processadores diferentes podem gerar  a matriz de  feature \"X\"  com quantidades  diferentes  de colunas.\n",
    "    # Logo, o valor de k também muda \n",
    "    if model.steps[0][0] == \"preprocessor_1\":\n",
    "        k = 48\n",
    "    elif model.steps[0][0] == \"preprocessor_2\":\n",
    "        k = 2800 \n",
    "\n",
    "    # Adicionando a função SelectKBest() ao Pipeline\n",
    "    model.steps.insert(1,['SelectKBest', SelectKBest(score_func = f_classif, k = 48 )]) #inserir no 2º passo da Pipeline"
   ]
  },
  {
   "cell_type": "markdown",
   "metadata": {},
   "source": [
    "## 8. Persistindo  os modelos  para o disco:\n",
    "* Resultados usando os  parâmetros otimizados, sem usar a função Grid Search\n",
    "* Persistência dos modelos com Joblib "
   ]
  },
  {
   "cell_type": "code",
   "execution_count": 15,
   "metadata": {},
   "outputs": [
    {
     "name": "stdout",
     "output_type": "stream",
     "text": [
      "O modelo   knn_pip_1 já foi salvo anteriormente\n",
      "Score\t0.9623333333333334\n",
      "O modelo  tree_pip_1 já foi salvo anteriormente\n",
      "Score\t0.9933333333333333\n",
      "O modelo  logreg_pip_1 já foi salvo anteriormente\n",
      "Score\t0.945\n"
     ]
    }
   ],
   "source": [
    "for name, model in classification_models.items():\n",
    "    model.fit(X_train, y_train)\n",
    "    \n",
    "    #Persistindo os resultados  para o disco: \n",
    "    if not os.path.exists('{}.joblib'.format(name)):\n",
    "        dump(model, '{}.joblib'.format(name))\n",
    "        print(\"O modelo \"+ name +\" foi salvo com sucesso !\")\n",
    "    else:\n",
    "        print(\"O modelo  \" + name + \" já foi salvo anteriormente\")\n",
    "        \n",
    "    print('Score\\t{}'.format( model.score(X_test, y_test)))"
   ]
  },
  {
   "cell_type": "markdown",
   "metadata": {},
   "source": [
    "## 9. Verificando quais funcionários valiosos sairão da empresa:"
   ]
  },
  {
   "cell_type": "markdown",
   "metadata": {},
   "source": [
    "#### 9.1 Filtro: Melhores funcionários:\n",
    "* Melhores funcionários de acordo com a métrica  \"last_evaluation\".  Foi aplicado o filtro  [\"last_evaluation\"> = 0.87] para definir os melhores  funcionários.Esse valor foi obtido apartir da análise estatística. "
   ]
  },
  {
   "cell_type": "code",
   "execution_count": 18,
   "metadata": {},
   "outputs": [],
   "source": [
    "def Filtro_melhores_funcionarios(df):\n",
    "    X_new = df[df[\"left_Company\"]!=1]                 #Tirando os que já sairam, queremos prever o que ocorrerá com os que ainda estão na empresa\n",
    "    X_new = X_new[X_new[\"last_evaluation\"]>=0.870000] # Separando os melhores funcionários.\n",
    "    X_new = X_new.drop(columns = \"left_Company\")      # Preparando os dados para o modelo de Machine Learning \n",
    "    return X_new"
   ]
  },
  {
   "cell_type": "code",
   "execution_count": 19,
   "metadata": {},
   "outputs": [],
   "source": [
    "X_new = Filtro_melhores_funcionarios(dados_processados_inicialmente)  # Dados dos melhores funcionários"
   ]
  },
  {
   "cell_type": "markdown",
   "metadata": {},
   "source": [
    "#### 9.2 Modelo escolhido para a solução:\n",
    "O modelo escolhido foi o de regressão logística, pois  busca-se respostas em termos de probabilidade"
   ]
  },
  {
   "cell_type": "code",
   "execution_count": 22,
   "metadata": {},
   "outputs": [],
   "source": [
    "clf = load('logreg_pip_1.joblib')                                     # Carregando os dados persistidos"
   ]
  },
  {
   "cell_type": "markdown",
   "metadata": {},
   "source": [
    "#### 9.3  Importância das Features"
   ]
  },
  {
   "cell_type": "code",
   "execution_count": 23,
   "metadata": {},
   "outputs": [],
   "source": [
    "resultado = (clf.predict_proba(X_new))[:,1]"
   ]
  },
  {
   "cell_type": "markdown",
   "metadata": {},
   "source": [
    "###### Obs:\n",
    "A função predict_proba () retorna um array numpy de duas colunas.\n",
    "A primeira coluna é a probabilidade de que alvo = 0 e a segunda coluna é a probabilidade de que alvo = 1.\n",
    "É por isso que adicionamos [:, 1] depois de predict_proba () para obter as probabilidades de alvo = 1."
   ]
  },
  {
   "cell_type": "code",
   "execution_count": 24,
   "metadata": {},
   "outputs": [],
   "source": [
    "X_new[\"probabilidade_de_sair\"] = resultado                              # acrescentando a solução ao X_new"
   ]
  },
  {
   "cell_type": "code",
   "execution_count": 25,
   "metadata": {},
   "outputs": [
    {
     "data": {
      "text/plain": [
       "['probabilidade_de_sair.joblib']"
      ]
     },
     "execution_count": 25,
     "metadata": {},
     "output_type": "execute_result"
    }
   ],
   "source": [
    "solucao = (X_new[\"probabilidade_de_sair\"]).sort_values(ascending=False) # Colocando a resposta em ordem decrescente. \n",
    "dump(solucao, 'probabilidade_de_sair.joblib')"
   ]
  },
  {
   "cell_type": "markdown",
   "metadata": {},
   "source": [
    "#### 9.4 Solução:\n",
    "* Melhores funcionários de acordo com a métrica  \"last_evaluation\".  Foi aplicado o filtro  [\"last_evaluation\"> = 0.87] para definir os melhores  funcionários.Esse valor foi obtido apartir da análise estatística. \n",
    "* Os resultados indicam as probabilidades de saída."
   ]
  },
  {
   "cell_type": "code",
   "execution_count": 61,
   "metadata": {},
   "outputs": [
    {
     "data": {
      "text/plain": [
       "ID\n",
       "11270    0.930213\n",
       "12077    0.866904\n",
       "11308    0.756495\n",
       "13532    0.725005\n",
       "13283    0.710506\n",
       "11665    0.704853\n",
       "12467    0.699241\n",
       "12369    0.684611\n",
       "11373    0.668930\n",
       "11828    0.634668\n",
       "14319    0.593065\n",
       "11427    0.584484\n",
       "14554    0.578534\n",
       "14368    0.527817\n",
       "14024    0.521074\n",
       "12066    0.446229\n",
       "11561    0.395535\n",
       "14643    0.385875\n",
       "11358    0.380550\n",
       "12401    0.373675\n",
       "Name: probabilidade_de_sair, dtype: float64"
      ]
     },
     "execution_count": 61,
     "metadata": {},
     "output_type": "execute_result"
    }
   ],
   "source": [
    "solucao.head(20)"
   ]
  },
  {
   "cell_type": "markdown",
   "metadata": {},
   "source": [
    "####  Referências \n",
    "https://iq.opengenus.org/advantages-and-disadvantages-of-logistic-regression/\n",
    "\n",
    "https://www.mariofilho.com/as-metricas-mais-populares-para-avaliar-modelos-de-machine-learning/"
   ]
  }
 ],
 "metadata": {
  "kernelspec": {
   "display_name": "Python 3",
   "language": "python",
   "name": "python3"
  },
  "language_info": {
   "codemirror_mode": {
    "name": "ipython",
    "version": 3
   },
   "file_extension": ".py",
   "mimetype": "text/x-python",
   "name": "python",
   "nbconvert_exporter": "python",
   "pygments_lexer": "ipython3",
   "version": "3.8.3"
  }
 },
 "nbformat": 4,
 "nbformat_minor": 4
}
